{
 "cells": [
  {
   "cell_type": "markdown",
   "metadata": {},
   "source": [
    "# Leetcode 994. Rotting Oranges\n",
    "\n",
    "Abu Shoeb modified on 2020-07-25\n",
    "\n",
    "Problem https://leetcode.com/problems/rotting-oranges/\n",
    "\n",
    "Solution https://www.youtube.com/watch?v=TzoDDOj60zE"
   ]
  },
  {
   "cell_type": "code",
   "execution_count": 3,
   "metadata": {},
   "outputs": [],
   "source": [
    "class Solution:\n",
    "    def orangesRotting(self, grid: List[List[int]]) -> int:\n",
    "        \n",
    "        '''\n",
    "        Abu Shoeb modified on 2020-07-25\n",
    "        Problem https://leetcode.com/problems/rotting-oranges/\n",
    "        Solution https://www.youtube.com/watch?v=TzoDDOj60zE\n",
    "        \n",
    "        Steps to solve the problem :\n",
    "            1) Store initial fresh and rotten oranges to fresh and rotten set respectively\n",
    "            2) Loop through until we have any fresh oranges\n",
    "                2.1) For all rotten oranges\n",
    "                    2.1.1) Check four nearby positions i.e. left, right, up, down of a rotten orange\n",
    "                    2.1.2) Mark them as infected if any fresh oranges are there in the position\n",
    "                2.2) Return -1 if there is no infected oranges after looping through all rotten oranges\n",
    "                2.3) Increase the timer\n",
    "                2.4) Assign all infected oranges to rotten oranges as they are rotten too\n",
    "            3) Return timer\n",
    "        '''\n",
    "\n",
    "        \n",
    "        fresh = set()\n",
    "        rotten = set()\n",
    "        \n",
    "        # store coordinates (x,y) for fresh and rotten oranges \n",
    "        for i in range(len(grid)):\n",
    "            for j in range(len(grid[i])):\n",
    "                if grid[i][j] == 1:\n",
    "                    fresh.add((i,j))\n",
    "                elif grid[i][j] == 2:\n",
    "                    rotten.add((i,j))\n",
    "                    \n",
    "        minutes = 0\n",
    "        \n",
    "        # all reachable directions (up, down, left, right) by a rotten orange that can be infected\n",
    "        directions = ((0,1), (1,0), (-1,0), (0,-1))\n",
    "        \n",
    "        # loop through until we have fresh oranges\n",
    "        while len(fresh) > 0:\n",
    "            \n",
    "            # stores infected oranges during the bfs\n",
    "            infected = set()\n",
    "            \n",
    "            for rot in rotten:\n",
    "                # remeber each rot is a tuple like (x,y)\n",
    "                i, j = rot\n",
    "                for d in directions:\n",
    "                    next_i, next_j = d\n",
    "                    next_i += i\n",
    "                    next_j += j\n",
    "                    \n",
    "                    if (next_i, next_j) in fresh:\n",
    "                        fresh.remove((next_i, next_j))\n",
    "                        infected.add((next_i, next_j))\n",
    "                        \n",
    "            if len(infected) == 0:\n",
    "                return -1\n",
    "            \n",
    "            minutes += 1\n",
    "            rotten = infected\n",
    "            \n",
    "        return minutes"
   ]
  },
  {
   "cell_type": "code",
   "execution_count": null,
   "metadata": {},
   "outputs": [],
   "source": []
  }
 ],
 "metadata": {
  "kernelspec": {
   "display_name": "Python 3 (3.8)",
   "language": "python",
   "name": "python3"
  },
  "language_info": {
   "codemirror_mode": {
    "name": "ipython",
    "version": 3
   },
   "file_extension": ".py",
   "mimetype": "text/x-python",
   "name": "python",
   "nbconvert_exporter": "python",
   "pygments_lexer": "ipython3",
   "version": "3.8.2"
  }
 },
 "nbformat": 4,
 "nbformat_minor": 4
}
